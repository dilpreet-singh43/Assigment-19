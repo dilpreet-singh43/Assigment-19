{
  "nbformat": 4,
  "nbformat_minor": 0,
  "metadata": {
    "colab": {
      "name": "assigment19.ipynb",
      "version": "0.3.2",
      "views": {},
      "default_view": {},
      "provenance": []
    },
    "kernelspec": {
      "name": "python3",
      "display_name": "Python 3"
    }
  },
  "cells": [
    {
      "metadata": {
        "id": "gOZukbmiVQtk",
        "colab_type": "code",
        "colab": {
          "autoexec": {
            "startup": false,
            "wait_interval": 0
          }
        }
      },
      "cell_type": "code",
      "source": [
        "Create a numpy array with 10 elements of the shape(10,1) using np.random and find out the mean of the elements using basic numpy functions."
      ],
      "execution_count": 0,
      "outputs": []
    },
    {
      "metadata": {
        "id": "cLe98BWhVV30",
        "colab_type": "code",
        "colab": {
          "autoexec": {
            "startup": false,
            "wait_interval": 0
          },
          "base_uri": "https://localhost:8080/",
          "height": 129
        },
        "outputId": "742e602f-b19d-4daf-f4f7-dcd8b81e53ba",
        "executionInfo": {
          "status": "error",
          "timestamp": 1530859477156,
          "user_tz": 420,
          "elapsed": 1798,
          "user": {
            "displayName": "DILPREET SINGH",
            "photoUrl": "https://lh3.googleusercontent.com/a/default-user=s128",
            "userId": "103980011673971809375"
          }
        }
      },
      "cell_type": "code",
      "source": [
        "\n",
        "importimport  numpynumpy  asas  npnp\n",
        "\n",
        "  aa==npnp..randomrandom..randrand((1010,,11))\n",
        " printprint((aa))\n",
        " printprint((\"mean=\"\"mean=\",a.mean())"
      ],
      "execution_count": 1,
      "outputs": [
        {
          "output_type": "error",
          "ename": "SyntaxError",
          "evalue": "ignored",
          "traceback": [
            "\u001b[0;36m  File \u001b[0;32m\"<ipython-input-1-0788a2e8248f>\"\u001b[0;36m, line \u001b[0;32m2\u001b[0m\n\u001b[0;31m    importimport  numpynumpy  asas  npnp\u001b[0m\n\u001b[0m                           ^\u001b[0m\n\u001b[0;31mSyntaxError\u001b[0m\u001b[0;31m:\u001b[0m invalid syntax\n"
          ]
        }
      ]
    },
    {
      "metadata": {
        "id": "PoCMALkoVdGv",
        "colab_type": "code",
        "colab": {
          "autoexec": {
            "startup": false,
            "wait_interval": 0
          }
        }
      },
      "cell_type": "code",
      "source": [
        "Create a numpy array with 20 elements of the shape(20,1) using np.random find the variance and standard deviation of the elements"
      ],
      "execution_count": 0,
      "outputs": []
    },
    {
      "metadata": {
        "id": "fn_Hr3wMVjTW",
        "colab_type": "code",
        "colab": {
          "autoexec": {
            "startup": false,
            "wait_interval": 0
          },
          "base_uri": "https://localhost:8080/",
          "height": 391
        },
        "outputId": "a75defbd-8dbc-48d7-c3e1-ae4962ef778c",
        "executionInfo": {
          "status": "ok",
          "timestamp": 1530859526556,
          "user_tz": 420,
          "elapsed": 1154,
          "user": {
            "displayName": "DILPREET SINGH",
            "photoUrl": "https://lh3.googleusercontent.com/a/default-user=s128",
            "userId": "103980011673971809375"
          }
        }
      },
      "cell_type": "code",
      "source": [
        "import numpy as np\n",
        "\n",
        "a=np.random.rand(20,1)\n",
        "print(a)\n",
        "print(\"standard deviation=\",a.std())\n",
        "print(\"variance=\",a.var())"
      ],
      "execution_count": 2,
      "outputs": [
        {
          "output_type": "stream",
          "text": [
            "[[0.78442991]\n",
            " [0.6928709 ]\n",
            " [0.16532905]\n",
            " [0.8042266 ]\n",
            " [0.77061717]\n",
            " [0.09530416]\n",
            " [0.3911379 ]\n",
            " [0.81355541]\n",
            " [0.20832253]\n",
            " [0.98692871]\n",
            " [0.09553381]\n",
            " [0.81138746]\n",
            " [0.03544928]\n",
            " [0.13316278]\n",
            " [0.56286513]\n",
            " [0.77215072]\n",
            " [0.88611464]\n",
            " [0.89739656]\n",
            " [0.71910362]\n",
            " [0.26256411]]\n",
            "standard deviation= 0.32038158488250423\n",
            "variance= 0.10264435993182527\n"
          ],
          "name": "stdout"
        }
      ]
    },
    {
      "metadata": {
        "id": "b4VBUr2-Vpsd",
        "colab_type": "code",
        "colab": {
          "autoexec": {
            "startup": false,
            "wait_interval": 0
          }
        }
      },
      "cell_type": "code",
      "source": [
        "Create a numpy array A of shape(10,20) and B of shape (20,25) using np.random. Print the matrix which is the matrix multiplication of A and B. The shape of the new matrix should be (10,25). Using basic numpy math functions only find the sum of all the elements of the new matrix"
      ],
      "execution_count": 0,
      "outputs": []
    },
    {
      "metadata": {
        "id": "WK1pMgyEVuLO",
        "colab_type": "code",
        "colab": {
          "autoexec": {
            "startup": false,
            "wait_interval": 0
          },
          "base_uri": "https://localhost:8080/",
          "height": 935
        },
        "outputId": "69180549-8a33-470c-d544-cfce02aaa9f8",
        "executionInfo": {
          "status": "ok",
          "timestamp": 1530859563181,
          "user_tz": 420,
          "elapsed": 1264,
          "user": {
            "displayName": "DILPREET SINGH",
            "photoUrl": "https://lh3.googleusercontent.com/a/default-user=s128",
            "userId": "103980011673971809375"
          }
        }
      },
      "cell_type": "code",
      "source": [
        "import numpy as np\n",
        "A=np.random.rand(10,20)\n",
        "B=np.random.rand(20,25)\n",
        "C=np.matmul(A,B)\n",
        "print(\"new matrix C=\",C)\n",
        "print(\"\")\n",
        "print(\"\")\n",
        "print(\"shape of C=\",C.shape)\n",
        "print(\"sum of elements=\",C.sum())"
      ],
      "execution_count": 3,
      "outputs": [
        {
          "output_type": "stream",
          "text": [
            "new matrix C= [[5.36220969 4.75411959 5.31177246 5.38931428 5.98099224 4.27377449\n",
            "  4.49547825 5.46989667 5.50011972 4.30111209 4.62729156 5.10745545\n",
            "  5.0042099  4.02593129 4.07781375 4.00079462 4.40093921 4.07929309\n",
            "  5.08486722 3.8730294  4.51889001 4.26639588 4.06807261 3.55911494\n",
            "  5.08141229]\n",
            " [5.56551675 5.58590173 5.2213494  4.87497369 7.35689839 4.45441735\n",
            "  6.21167025 6.25117353 5.3520676  5.8710864  6.12051215 4.81255721\n",
            "  5.41283444 4.70597336 4.49744668 6.37238672 5.38138752 5.07589486\n",
            "  5.91965332 5.13357452 5.86128047 5.50999602 5.12342107 2.88692251\n",
            "  5.67415967]\n",
            " [4.35451225 4.76786753 4.24657048 4.57909622 6.39613707 3.8232231\n",
            "  5.19195209 6.02857184 5.09298743 4.81723543 4.74794863 4.85599449\n",
            "  4.44206803 3.46798064 3.83384451 4.74961725 3.94702881 4.18188099\n",
            "  4.6174767  4.24699349 4.9757116  5.42982133 4.54149703 3.11485796\n",
            "  4.88764687]\n",
            " [5.13124497 5.91660072 5.19317155 5.78344723 7.2232766  4.9419629\n",
            "  5.28294266 6.24400878 5.94419541 4.97035374 5.61447574 4.61901226\n",
            "  5.29239068 3.8954359  4.95089316 5.11940587 5.05018915 5.54363948\n",
            "  5.5874374  5.17977369 6.16855708 5.66941211 5.05373556 3.12075321\n",
            "  4.94081   ]\n",
            " [4.88229519 4.81157055 4.60009873 4.65875774 5.72888771 4.65457545\n",
            "  5.20610794 6.24381195 5.1857816  4.97955103 5.2912532  3.93023343\n",
            "  4.56160241 3.46561818 3.06076941 3.80282955 4.41019362 4.59624933\n",
            "  5.31448362 3.33643812 4.93681211 5.2390314  4.97150645 2.72939951\n",
            "  5.16947374]\n",
            " [5.11885892 5.13334339 5.7778497  5.72362606 6.26565453 5.87774068\n",
            "  5.61912114 7.44917141 5.78551876 5.26630837 6.47312912 4.88778261\n",
            "  4.63962602 4.00319438 4.05707038 4.45944711 4.80419424 5.80862691\n",
            "  5.30100654 3.76319835 6.19347725 5.92720578 5.16835675 2.59525527\n",
            "  5.75911563]\n",
            " [5.6009845  5.656556   5.47080777 6.05099404 7.01667934 4.62702679\n",
            "  5.3326893  6.32023567 6.14763455 5.14837026 5.41957665 5.33785895\n",
            "  6.05195619 4.39573097 4.58762241 4.78767507 4.71114756 5.05808709\n",
            "  6.11043338 4.78556882 5.66653637 5.21639016 5.06696537 3.54765802\n",
            "  5.7528814 ]\n",
            " [4.63562078 4.3468932  4.64578101 4.40390893 6.39268061 4.19632963\n",
            "  5.01300077 5.42807836 4.8793083  4.87433476 4.79955556 4.44117717\n",
            "  4.32683726 3.71831226 4.26978644 5.44838944 4.22161034 4.88379852\n",
            "  4.6881855  4.45966338 4.53556257 4.23373057 4.39985215 2.21287142\n",
            "  4.56649445]\n",
            " [4.69655731 4.8340222  4.51849824 4.79127143 5.73094413 4.76157332\n",
            "  3.98419543 5.58720781 4.94475538 4.35382232 5.16072128 4.08885677\n",
            "  3.8417685  3.26802774 4.11536403 3.74087805 4.25154959 4.67236529\n",
            "  4.46822964 3.67096655 4.88355409 5.14681009 4.04915932 2.55114766\n",
            "  4.03130198]\n",
            " [6.7988699  6.23925115 6.19148597 5.98658526 7.64190951 5.88200564\n",
            "  6.09246372 7.39209965 6.20903461 6.15936662 7.63787824 5.99288175\n",
            "  5.5022654  5.33255927 5.64609106 6.08921268 5.91268308 6.44087901\n",
            "  6.74359808 5.54541538 6.54925935 6.18422475 5.31881787 3.23755588\n",
            "  6.21432316]]\n",
            "\n",
            "\n",
            "shape of C= (10, 25)\n",
            "sum of elements= 1258.2223103974197\n"
          ],
          "name": "stdout"
        }
      ]
    },
    {
      "metadata": {
        "id": "9BOKBBvSVzCr",
        "colab_type": "code",
        "colab": {
          "autoexec": {
            "startup": false,
            "wait_interval": 0
          }
        }
      },
      "cell_type": "code",
      "source": [
        "\n",
        "CreateCreate  aa  numpynumpy  arrayarray  AA  ofof  shapeshape((1010,,11))..UsingUsing  thethe  basicbasic  operationsoperati  of the numpy array generate an array of shape(10,1) such that each element is the following function applied on each element of A"
      ],
      "execution_count": 0,
      "outputs": []
    },
    {
      "metadata": {
        "id": "hiOm7GCPV2Qs",
        "colab_type": "code",
        "colab": {
          "autoexec": {
            "startup": false,
            "wait_interval": 0
          },
          "base_uri": "https://localhost:8080/",
          "height": 54
        },
        "outputId": "c6cfba11-5a42-4da8-96f4-f33233fc8dbc",
        "executionInfo": {
          "status": "ok",
          "timestamp": 1530859591193,
          "user_tz": 420,
          "elapsed": 1277,
          "user": {
            "displayName": "DILPREET SINGH",
            "photoUrl": "https://lh3.googleusercontent.com/a/default-user=s128",
            "userId": "103980011673971809375"
          }
        }
      },
      "cell_type": "code",
      "source": [
        "import numpy as np\n",
        "import math\n",
        "\n",
        "A=np.random.rand(10,1)\n",
        "#print(A)\n",
        "l=[]\n",
        "for x in A:\n",
        "  for y in x:\n",
        "    B=1 / (1 + math.exp(-y))\n",
        "    l.append(B)\n",
        "print(l)"
      ],
      "execution_count": 4,
      "outputs": [
        {
          "output_type": "stream",
          "text": [
            "[0.6708206738127934, 0.7284611684962224, 0.5533871932523698, 0.5449068258433982, 0.5392919903774155, 0.6844166648734449, 0.7149125293252574, 0.5274798370033281, 0.7198008743894713, 0.7210519353465852]\n"
          ],
          "name": "stdout"
        }
      ]
    },
    {
      "metadata": {
        "id": "C9PvlWYSVYbl",
        "colab_type": "code",
        "colab": {
          "autoexec": {
            "startup": false,
            "wait_interval": 0
          }
        }
      },
      "cell_type": "code",
      "source": [
        ""
      ],
      "execution_count": 0,
      "outputs": []
    }
  ]
}